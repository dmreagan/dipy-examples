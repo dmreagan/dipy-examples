{
  "nbformat": 4,
  "nbformat_minor": 0,
  "metadata": {
    "colab": {
      "name": "quick_start.ipynb",
      "version": "0.3.2",
      "provenance": [],
      "collapsed_sections": []
    },
    "kernelspec": {
      "name": "python3",
      "display_name": "Python 3"
    }
  },
  "cells": [
    {
      "cell_type": "markdown",
      "metadata": {
        "id": "view-in-github",
        "colab_type": "text"
      },
      "source": [
        "[View in Colaboratory](https://colab.research.google.com/github/dmreagan/dipy-examples/blob/master/quick_start.ipynb)"
      ]
    },
    {
      "metadata": {
        "id": "2EPMTJ-BdcHa",
        "colab_type": "text"
      },
      "cell_type": "markdown",
      "source": [
        "Getting started with DIPY\n",
        "=========================\n",
        "In diffusion MRI (dMRI) usually we use three types of files, a Nifti file with the\n",
        "diffusion weighted data, and two text files one with b-values and\n",
        "one with the b-vectors.\n",
        "In DIPY_ we provide tools to load and process these files and we also provide\n",
        "access to publically available datasets for those who haven't acquired yet\n",
        "their own datasets.\n",
        "With the following commands we can download a dMRI dataset"
      ]
    },
    {
      "metadata": {
        "id": "69262uwqc-3g",
        "colab_type": "code",
        "colab": {
          "base_uri": "https://localhost:8080/",
          "height": 493
        },
        "outputId": "38c453b8-4fd4-43fc-8984-a4d2f4d1ba21"
      },
      "cell_type": "code",
      "source": [
        "!pip install dipy\n",
        "from dipy.data import fetch_sherbrooke_3shell\n",
        "fetch_sherbrooke_3shell()"
      ],
      "execution_count": 2,
      "outputs": [
        {
          "output_type": "stream",
          "text": [
            "Collecting dipy\n",
            "\u001b[?25l  Downloading https://files.pythonhosted.org/packages/05/41/5c3c6e7c18dc6cbad4cb7f470d5094bdbb53c83eb99e11ba2f66fc76d966/dipy-0.14.0-cp36-cp36m-manylinux1_x86_64.whl (8.1MB)\n",
            "\u001b[K    100% |████████████████████████████████| 8.1MB 5.4MB/s \n",
            "\u001b[?25hRequirement already satisfied: scipy>=0.9 in /usr/local/lib/python3.6/dist-packages (from dipy) (0.19.1)\n",
            "Requirement already satisfied: h5py>=2.4.0 in /usr/local/lib/python3.6/dist-packages (from dipy) (2.7.1)\n",
            "Collecting nibabel>=2.1.0 (from dipy)\n",
            "\u001b[?25l  Downloading https://files.pythonhosted.org/packages/d7/de/1d96fd0b118c9047bf35f02090db8ef8fd3927dfce635f09a6f7d5b572e6/nibabel-2.2.1.zip (4.2MB)\n",
            "\u001b[K    100% |████████████████████████████████| 4.2MB 10.2MB/s \n",
            "\u001b[?25hRequirement already satisfied: numpy>=1.8.2 in /usr/local/lib/python3.6/dist-packages (from scipy>=0.9->dipy) (1.14.3)\n",
            "Requirement already satisfied: six in /usr/local/lib/python3.6/dist-packages (from h5py>=2.4.0->dipy) (1.11.0)\n",
            "Building wheels for collected packages: nibabel\n",
            "  Running setup.py bdist_wheel for nibabel ... \u001b[?25l-\b \b\\\b \b|\b \b/\b \b-\b \b\\\b \b|\b \b/\b \bdone\n",
            "\u001b[?25h  Stored in directory: /content/.cache/pip/wheels/46/50/8d/bcb0b8f7c030da5bac1752fbe9cc375cbf5725fa93ba79ad84\n",
            "Successfully built nibabel\n",
            "Installing collected packages: nibabel, dipy\n",
            "Successfully installed dipy-0.14.0 nibabel-2.2.1\n",
            "Creating new folder /content/.dipy/sherbrooke_3shell\n",
            "Downloading \"HARDI193.nii.gz\" to /content/.dipy/sherbrooke_3shell\n",
            "Download Progress: [----------------------------------] 0.43%  of 183.58 MB"
          ],
          "name": "stdout"
        },
        {
          "output_type": "stream",
          "text": [
            "Download Progress: [##################################] 100.00%  of 183.58 MB"
          ],
          "name": "stdout"
        },
        {
          "output_type": "stream",
          "text": [
            "Downloading \"HARDI193.bval\" to /content/.dipy/sherbrooke_3shell\n",
            "Download Progress: [##################################] 100.00%  of 0.00 MBDownloading \"HARDI193.bvec\" to /content/.dipy/sherbrooke_3shell\n",
            "Download Progress: [##################################] 100.00%  of 0.01 MBFiles successfully downloaded to /content/.dipy/sherbrooke_3shell\n"
          ],
          "name": "stdout"
        },
        {
          "output_type": "execute_result",
          "data": {
            "text/plain": [
              "({'HARDI193.bval': ('https://digital.lib.washington.edu/researchworks/bitstream/handle/1773/38475/HARDI193.bval',\n",
              "   'e9b9bb56252503ea49d31fb30a0ac637'),\n",
              "  'HARDI193.bvec': ('https://digital.lib.washington.edu/researchworks/bitstream/handle/1773/38475/HARDI193.bvec',\n",
              "   '0c83f7e8b917cd677ad58a078658ebb7'),\n",
              "  'HARDI193.nii.gz': ('https://digital.lib.washington.edu/researchworks/bitstream/handle/1773/38475/HARDI193.nii.gz',\n",
              "   '0b735e8f16695a37bfbd66aab136eb66')},\n",
              " '/content/.dipy/sherbrooke_3shell')"
            ]
          },
          "metadata": {
            "tags": []
          },
          "execution_count": 2
        }
      ]
    },
    {
      "metadata": {
        "id": "l3PlI4mfeKmi",
        "colab_type": "text"
      },
      "cell_type": "markdown",
      "source": [
        "By default these datasets will go in the ``.dipy`` folder inside your home directory.\n",
        "Here is how you can access them."
      ]
    },
    {
      "metadata": {
        "id": "MGJsAULweM8W",
        "colab_type": "code",
        "colab": {}
      },
      "cell_type": "code",
      "source": [
        "from os.path import expanduser, join\n",
        "home = expanduser('~')"
      ],
      "execution_count": 0,
      "outputs": []
    },
    {
      "metadata": {
        "id": "PJA_NeF8ecRk",
        "colab_type": "text"
      },
      "cell_type": "markdown",
      "source": [
        "``dname`` holds the directory name where the 3 files are in."
      ]
    },
    {
      "metadata": {
        "id": "kDN_rgdoedIk",
        "colab_type": "code",
        "colab": {}
      },
      "cell_type": "code",
      "source": [
        "dname = join(home, '.dipy', 'sherbrooke_3shell')"
      ],
      "execution_count": 0,
      "outputs": []
    },
    {
      "metadata": {
        "id": "DhkjeRUdej_C",
        "colab_type": "text"
      },
      "cell_type": "markdown",
      "source": [
        "Here, we show the complete filenames of the 3 files"
      ]
    },
    {
      "metadata": {
        "id": "Jr53a1S4ekmk",
        "colab_type": "code",
        "colab": {
          "base_uri": "https://localhost:8080/",
          "height": 68
        },
        "outputId": "70e5df4f-47d0-4888-acfe-9af149649917"
      },
      "cell_type": "code",
      "source": [
        "fdwi = join(dname, 'HARDI193.nii.gz')\n",
        "print(fdwi)\n",
        "\n",
        "fbval = join(dname, 'HARDI193.bval')\n",
        "print(fbval)\n",
        "\n",
        "fbvec = join(dname, 'HARDI193.bvec')\n",
        "print(fbvec)"
      ],
      "execution_count": 5,
      "outputs": [
        {
          "output_type": "stream",
          "text": [
            "/content/.dipy/sherbrooke_3shell/HARDI193.nii.gz\n",
            "/content/.dipy/sherbrooke_3shell/HARDI193.bval\n",
            "/content/.dipy/sherbrooke_3shell/HARDI193.bvec\n"
          ],
          "name": "stdout"
        }
      ]
    },
    {
      "metadata": {
        "id": "XuJBNRUFfGEC",
        "colab_type": "text"
      },
      "cell_type": "markdown",
      "source": [
        "Now that we have their filenames we can start checking what these look like.\n",
        "Let's start first by loading the dMRI datasets. For this purpose, we\n",
        "use a python library called nibabel_ which enables us to read and write\n",
        "neuroimaging-specific file formats."
      ]
    },
    {
      "metadata": {
        "id": "5NdhB0XHfG--",
        "colab_type": "code",
        "colab": {}
      },
      "cell_type": "code",
      "source": [
        "import nibabel as nib\n",
        "img = nib.load(fdwi)\n",
        "data = img.get_data()"
      ],
      "execution_count": 0,
      "outputs": []
    },
    {
      "metadata": {
        "id": "Y5RijSq8fTru",
        "colab_type": "text"
      },
      "cell_type": "markdown",
      "source": [
        "``data`` is a 4D array where the first 3 dimensions are the i, j, k voxel\n",
        "coordinates and the last dimension is the number of non-weighted (S0s) and\n",
        "diffusion-weighted volumes.\n",
        "We can very easily check the size of ``data`` in the following way:"
      ]
    },
    {
      "metadata": {
        "id": "pmhq49MIfUXO",
        "colab_type": "code",
        "colab": {
          "base_uri": "https://localhost:8080/",
          "height": 34
        },
        "outputId": "7eccf165-acfb-479d-fa14-b794c27a7b68"
      },
      "cell_type": "code",
      "source": [
        "print(data.shape)"
      ],
      "execution_count": 7,
      "outputs": [
        {
          "output_type": "stream",
          "text": [
            "(128, 128, 60, 193)\n"
          ],
          "name": "stdout"
        }
      ]
    },
    {
      "metadata": {
        "id": "vrbhyyuDfdDk",
        "colab_type": "text"
      },
      "cell_type": "markdown",
      "source": [
        "We can also check the dimensions of each voxel in the following way:"
      ]
    },
    {
      "metadata": {
        "id": "5i_I564lfdku",
        "colab_type": "code",
        "colab": {
          "base_uri": "https://localhost:8080/",
          "height": 34
        },
        "outputId": "ba7ef23c-cf5a-4be7-867f-9d9e7369d54b"
      },
      "cell_type": "code",
      "source": [
        "print(img.header.get_zooms()[:3])"
      ],
      "execution_count": 8,
      "outputs": [
        {
          "output_type": "stream",
          "text": [
            "(2.0, 2.0, 2.0)\n"
          ],
          "name": "stdout"
        }
      ]
    },
    {
      "metadata": {
        "id": "2r6_bVQFflvk",
        "colab_type": "text"
      },
      "cell_type": "markdown",
      "source": [
        "We can quickly visualize the results using matplotlib. For example,\n",
        "let's show here the middle axial slices of volume 0 and volume 10."
      ]
    },
    {
      "metadata": {
        "id": "Eulmp7bgfmXO",
        "colab_type": "code",
        "colab": {
          "base_uri": "https://localhost:8080/",
          "height": 251
        },
        "outputId": "b3d0d0ac-872d-444b-f965-d4fcd02b888d"
      },
      "cell_type": "code",
      "source": [
        "import matplotlib.pyplot as plt\n",
        "\n",
        "axial_middle = data.shape[2] // 2\n",
        "plt.figure('Showing the datasets')\n",
        "plt.subplot(1, 2, 1).set_axis_off()\n",
        "plt.imshow(data[:, :, axial_middle, 0].T, cmap='gray', origin='lower')\n",
        "plt.subplot(1, 2, 2).set_axis_off()\n",
        "plt.imshow(data[:, :, axial_middle, 10].T, cmap='gray', origin='lower')\n",
        "plt.show()"
      ],
      "execution_count": 9,
      "outputs": [
        {
          "output_type": "display_data",
          "data": {
            "image/png": "[encoded data removed]",
            "text/plain": [
              "<matplotlib.figure.Figure at 0x7f0155b8fac8>"
            ]
          },
          "metadata": {
            "tags": []
          }
        }
      ]
    },
    {
      "metadata": {
        "id": "8aD_ReNngUwo",
        "colab_type": "text"
      },
      "cell_type": "markdown",
      "source": [
        "The next step is to load the b-values and b-vectors from the disk using\n",
        "the function ``read_bvals_bvecs``."
      ]
    },
    {
      "metadata": {
        "id": "5YBwR7qUgIAO",
        "colab_type": "code",
        "colab": {}
      },
      "cell_type": "code",
      "source": [
        "from dipy.io import read_bvals_bvecs\n",
        "bvals, bvecs = read_bvals_bvecs(fbval, fbvec)"
      ],
      "execution_count": 0,
      "outputs": []
    },
    {
      "metadata": {
        "id": "ekLbq8KXgeIE",
        "colab_type": "text"
      },
      "cell_type": "markdown",
      "source": [
        "In DIPY, we use an object called ``GradientTable`` which holds all the\n",
        "acquisition specific parameters, e.g. b-values, b-vectors, timings and others.\n",
        "To create this object you can use the function ``gradient_table``."
      ]
    },
    {
      "metadata": {
        "id": "fqtlMmooge06",
        "colab_type": "code",
        "colab": {}
      },
      "cell_type": "code",
      "source": [
        "from dipy.core.gradients import gradient_table\n",
        "gtab = gradient_table(bvals, bvecs)"
      ],
      "execution_count": 0,
      "outputs": []
    },
    {
      "metadata": {
        "id": "sb28Mj32goga",
        "colab_type": "text"
      },
      "cell_type": "markdown",
      "source": [
        "Finally, you can use ``gtab`` (the GradientTable object) to show some information about the\n",
        "acquisition parameters"
      ]
    },
    {
      "metadata": {
        "id": "l8HabeIygp12",
        "colab_type": "code",
        "colab": {
          "base_uri": "https://localhost:8080/",
          "height": 136
        },
        "outputId": "ab31e548-2e24-4b8e-9451-dd26bfaf2c41"
      },
      "cell_type": "code",
      "source": [
        "print(gtab.info)"
      ],
      "execution_count": 12,
      "outputs": [
        {
          "output_type": "stream",
          "text": [
            "B-values shape (193,)\n",
            "         min 0.000000 \n",
            "         max 3500.000000 \n",
            "B-vectors shape (193, 3)\n",
            "         min -0.964050 \n",
            "         max 0.999992 \n",
            "None\n"
          ],
          "name": "stdout"
        }
      ]
    },
    {
      "metadata": {
        "id": "MxFuzPpRgzDM",
        "colab_type": "text"
      },
      "cell_type": "markdown",
      "source": [
        "You can also see the b-values using:"
      ]
    },
    {
      "metadata": {
        "id": "7TmSKcg2guPM",
        "colab_type": "code",
        "colab": {
          "base_uri": "https://localhost:8080/",
          "height": 306
        },
        "outputId": "600be1f4-73a1-435c-a3c8-d24a78fde669"
      },
      "cell_type": "code",
      "source": [
        "print(gtab.bvals)"
      ],
      "execution_count": 13,
      "outputs": [
        {
          "output_type": "stream",
          "text": [
            "[   0. 1000. 1000. 1000. 1000. 1000. 1000. 1000. 1000. 1000. 1000. 1000.\n",
            " 1000. 1000. 1000. 1000. 1000. 1000. 1000. 1000. 1000. 1000. 1000. 1000.\n",
            " 1000. 1000. 1000. 1000. 1000. 1000. 1000. 1000. 1000. 1000. 1000. 1000.\n",
            " 1000. 1000. 1000. 1000. 1000. 1000. 1000. 1000. 1000. 1000. 1000. 1000.\n",
            " 1000. 1000. 1000. 1000. 1000. 1000. 1000. 1000. 1000. 1000. 1000. 1000.\n",
            " 1000. 1000. 1000. 1000. 1000. 2000. 2000. 2000. 2000. 2000. 2000. 2000.\n",
            " 2000. 2000. 2000. 2000. 2000. 2000. 2000. 2000. 2000. 2000. 2000. 2000.\n",
            " 2000. 2000. 2000. 2000. 2000. 2000. 2000. 2000. 2000. 2000. 2000. 2000.\n",
            " 2000. 2000. 2000. 2000. 2000. 2000. 2000. 2000. 2000. 2000. 2000. 2000.\n",
            " 2000. 2000. 2000. 2000. 2000. 2000. 2000. 2000. 2000. 2000. 2000. 2000.\n",
            " 2000. 2000. 2000. 2000. 2000. 2000. 2000. 2000. 2000. 3500. 3500. 3500.\n",
            " 3500. 3500. 3500. 3500. 3500. 3500. 3500. 3500. 3500. 3500. 3500. 3500.\n",
            " 3500. 3500. 3500. 3500. 3500. 3500. 3500. 3500. 3500. 3500. 3500. 3500.\n",
            " 3500. 3500. 3500. 3500. 3500. 3500. 3500. 3500. 3500. 3500. 3500. 3500.\n",
            " 3500. 3500. 3500. 3500. 3500. 3500. 3500. 3500. 3500. 3500. 3500. 3500.\n",
            " 3500. 3500. 3500. 3500. 3500. 3500. 3500. 3500. 3500. 3500. 3500. 3500.\n",
            " 3500.]\n"
          ],
          "name": "stdout"
        }
      ]
    },
    {
      "metadata": {
        "id": "ztyctFs4g98o",
        "colab_type": "text"
      },
      "cell_type": "markdown",
      "source": [
        "Or, for example the 10 first b-vectors using:"
      ]
    },
    {
      "metadata": {
        "id": "sO77xVdQg0Ce",
        "colab_type": "code",
        "colab": {
          "base_uri": "https://localhost:8080/",
          "height": 187
        },
        "outputId": "12b5c79f-638d-46bf-811f-579941b2d344"
      },
      "cell_type": "code",
      "source": [
        "print(gtab.bvecs[:10, :])"
      ],
      "execution_count": 14,
      "outputs": [
        {
          "output_type": "stream",
          "text": [
            "[[ 0.          0.          0.        ]\n",
            " [ 0.999979   -0.00504001 -0.00402795]\n",
            " [ 0.          0.999992   -0.00398794]\n",
            " [-0.0257055   0.653861   -0.756178  ]\n",
            " [ 0.589518   -0.769236   -0.246462  ]\n",
            " [-0.235785   -0.529095   -0.815147  ]\n",
            " [-0.893578   -0.263559   -0.363394  ]\n",
            " [ 0.79784     0.133726   -0.587851  ]\n",
            " [ 0.232937    0.931884   -0.278087  ]\n",
            " [ 0.93672     0.144139   -0.31903   ]]\n"
          ],
          "name": "stdout"
        }
      ]
    },
    {
      "metadata": {
        "id": "7s5DOfxbhHJC",
        "colab_type": "text"
      },
      "cell_type": "markdown",
      "source": [
        "``gtab``  can be used to tell what part of the data is the S0 volumes\n",
        "(volumes which correspond to b-values of 0)."
      ]
    },
    {
      "metadata": {
        "id": "QE4PKQGYhHzS",
        "colab_type": "code",
        "colab": {}
      },
      "cell_type": "code",
      "source": [
        "S0s = data[:, :, :, gtab.b0s_mask]"
      ],
      "execution_count": 0,
      "outputs": []
    },
    {
      "metadata": {
        "id": "iF_Tq_NBhPu0",
        "colab_type": "text"
      },
      "cell_type": "markdown",
      "source": [
        "Here, we had only 1 S0 as we can verify by looking at the dimensions of S0s"
      ]
    },
    {
      "metadata": {
        "id": "d_2KPrDkhQi6",
        "colab_type": "code",
        "colab": {
          "base_uri": "https://localhost:8080/",
          "height": 34
        },
        "outputId": "519cbd62-3676-4cc2-dc85-5f259b6231e5"
      },
      "cell_type": "code",
      "source": [
        "print(S0s.shape)"
      ],
      "execution_count": 16,
      "outputs": [
        {
          "output_type": "stream",
          "text": [
            "(128, 128, 60, 1)\n"
          ],
          "name": "stdout"
        }
      ]
    },
    {
      "metadata": {
        "id": "1sJrhQ3chbIk",
        "colab_type": "text"
      },
      "cell_type": "markdown",
      "source": [
        "Just for fun let's save this in a new Nifti file."
      ]
    },
    {
      "metadata": {
        "id": "897rMlSdhd4e",
        "colab_type": "code",
        "colab": {}
      },
      "cell_type": "code",
      "source": [
        "nib.save(nib.Nifti1Image(S0s, img.affine), 'HARDI193_S0.nii.gz')"
      ],
      "execution_count": 0,
      "outputs": []
    },
    {
      "metadata": {
        "id": "AtLmumUFhrkU",
        "colab_type": "text"
      },
      "cell_type": "markdown",
      "source": [
        "Now that we learned how to load dMRI datasets we can start the analysis.\n",
        "\n",
        "See example *example_reconst_dti* to learn how to create FA maps."
      ]
    }
  ]
}